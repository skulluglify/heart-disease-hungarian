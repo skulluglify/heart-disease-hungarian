{
 "cells": [
  {
   "cell_type": "code",
   "execution_count": 1,
   "metadata": {},
   "outputs": [],
   "source": [
    "# utilities\n",
    "from typing import Sequence, Mapping\n",
    "\n",
    "\n",
    "def evaluation(y_test, y_pred):\n",
    "\n",
    "  return dict(\n",
    "      accuracy=accuracy_score(y_test, y_pred),\n",
    "      recall=recall_score(y_test, y_pred, average='weighted', zero_division=0),\n",
    "      precision=precision_score(y_test, y_pred, average='weighted', zero_division=0),\n",
    "      f1_score=f1_score(y_test, y_pred, average='weighted', zero_division=0),\n",
    "  )\n",
    "\n",
    "\n",
    "def pprint(data, start = '', end = '\\r\\n', output = False, tab = '\\t'):\n",
    "  if isinstance(data, Mapping):\n",
    "    temp = '|' + end\n",
    "    \n",
    "    for k, v in data.items():\n",
    "      temp += start + k + ' = ' + pprint(v, tab + start, end, output=True) + end\n",
    "    \n",
    "    if not output:\n",
    "      print(temp)\n",
    "      \n",
    "    return temp\n",
    "\n",
    "  if not isinstance(data, str):\n",
    "    if isinstance(data, Sequence):\n",
    "      temp = '|' + end\n",
    "      \n",
    "      for k, v in enumerate(data):\n",
    "        temp += start + str(k) + ' = ' + pprint(v, tab + start, end, output=True) + end\n",
    "      \n",
    "      if not output:\n",
    "        print(temp)\n",
    "        \n",
    "      return temp\n",
    "\n",
    "  if not output:\n",
    "    print(data)\n",
    "    \n",
    "  return str(data)"
   ]
  },
  {
   "cell_type": "code",
   "execution_count": 2,
   "metadata": {},
   "outputs": [
    {
     "name": "stdout",
     "output_type": "stream",
     "text": [
      "|\n",
      "name = RandomForestClassifier_x_adasyn\n",
      "model = RandomForestClassifier(random_state=42)\n",
      "use_smote = False\n",
      "use_adasyn = True\n",
      "preprocessing = |\n",
      "  0 = ADASYN(random_state=42)\n",
      "\n",
      "scores = |\n",
      "  accuracy = 0.90625\n",
      "  recall = 0.90625\n",
      "  precision = 0.9054878982843138\n",
      "  f1_score = 0.9048479074251077\n",
      "\n",
      "\n",
      "Pipeline(steps=[('adasyn', ADASYN(random_state=42)),\n",
      "                ('randomforestclassifier',\n",
      "                 RandomForestClassifier(random_state=42))])\n"
     ]
    }
   ],
   "source": [
    "import joblib\n",
    "from sklearn.pipeline import make_pipeline\n",
    "\n",
    "\n",
    "with open('best_data_model.jbl', 'rb') as stream:\n",
    "  best_data_model = joblib.load(stream)\n",
    "  pprint(best_data_model, tab='  ')\n",
    "  \n",
    "  pipe = make_pipeline(*best_data_model.get('preprocessing'), best_data_model.get('model'))\n",
    "  print(pipe)"
   ]
  },
  {
   "cell_type": "code",
   "execution_count": 1,
   "metadata": {},
   "outputs": [],
   "source": [
    "import pandas as pd\n",
    "import numpy as np"
   ]
  },
  {
   "cell_type": "code",
   "execution_count": 6,
   "metadata": {},
   "outputs": [
    {
     "data": {
      "text/html": [
       "<div>\n",
       "<style scoped>\n",
       "    .dataframe tbody tr th:only-of-type {\n",
       "        vertical-align: middle;\n",
       "    }\n",
       "\n",
       "    .dataframe tbody tr th {\n",
       "        vertical-align: top;\n",
       "    }\n",
       "\n",
       "    .dataframe thead th {\n",
       "        text-align: right;\n",
       "    }\n",
       "</style>\n",
       "<table border=\"1\" class=\"dataframe\">\n",
       "  <thead>\n",
       "    <tr style=\"text-align: right;\">\n",
       "      <th></th>\n",
       "      <th>a</th>\n",
       "      <th>b</th>\n",
       "      <th>c</th>\n",
       "    </tr>\n",
       "  </thead>\n",
       "  <tbody>\n",
       "    <tr>\n",
       "      <th>0</th>\n",
       "      <td>1</td>\n",
       "      <td>a</td>\n",
       "      <td>1</td>\n",
       "    </tr>\n",
       "    <tr>\n",
       "      <th>1</th>\n",
       "      <td>2</td>\n",
       "      <td>b</td>\n",
       "      <td>1</td>\n",
       "    </tr>\n",
       "    <tr>\n",
       "      <th>2</th>\n",
       "      <td>3</td>\n",
       "      <td>a</td>\n",
       "      <td>1</td>\n",
       "    </tr>\n",
       "    <tr>\n",
       "      <th>3</th>\n",
       "      <td>4</td>\n",
       "      <td>b</td>\n",
       "      <td>1</td>\n",
       "    </tr>\n",
       "    <tr>\n",
       "      <th>4</th>\n",
       "      <td>4</td>\n",
       "      <td>b</td>\n",
       "      <td>1</td>\n",
       "    </tr>\n",
       "    <tr>\n",
       "      <th>5</th>\n",
       "      <td>4</td>\n",
       "      <td>b</td>\n",
       "      <td>1</td>\n",
       "    </tr>\n",
       "  </tbody>\n",
       "</table>\n",
       "</div>"
      ],
      "text/plain": [
       "   a  b  c\n",
       "0  1  a  1\n",
       "1  2  b  1\n",
       "2  3  a  1\n",
       "3  4  b  1\n",
       "4  4  b  1\n",
       "5  4  b  1"
      ]
     },
     "execution_count": 6,
     "metadata": {},
     "output_type": "execute_result"
    }
   ],
   "source": [
    "df = pd.DataFrame([[1, 'a', 1], [2, 'b', 1], [3, 'a', 1], [4, 'b', 1], [4, 'b', 1], [4, 'b', 1]], columns=['a', 'b', 'c'])\n",
    "df"
   ]
  },
  {
   "cell_type": "code",
   "execution_count": 12,
   "metadata": {},
   "outputs": [
    {
     "data": {
      "text/html": [
       "<div>\n",
       "<style scoped>\n",
       "    .dataframe tbody tr th:only-of-type {\n",
       "        vertical-align: middle;\n",
       "    }\n",
       "\n",
       "    .dataframe tbody tr th {\n",
       "        vertical-align: top;\n",
       "    }\n",
       "\n",
       "    .dataframe thead th {\n",
       "        text-align: right;\n",
       "    }\n",
       "</style>\n",
       "<table border=\"1\" class=\"dataframe\">\n",
       "  <thead>\n",
       "    <tr style=\"text-align: right;\">\n",
       "      <th></th>\n",
       "      <th>a</th>\n",
       "      <th>b</th>\n",
       "    </tr>\n",
       "  </thead>\n",
       "  <tbody>\n",
       "    <tr>\n",
       "      <th>0</th>\n",
       "      <td>1</td>\n",
       "      <td>a</td>\n",
       "    </tr>\n",
       "    <tr>\n",
       "      <th>1</th>\n",
       "      <td>2</td>\n",
       "      <td>b</td>\n",
       "    </tr>\n",
       "    <tr>\n",
       "      <th>2</th>\n",
       "      <td>3</td>\n",
       "      <td>a</td>\n",
       "    </tr>\n",
       "    <tr>\n",
       "      <th>3</th>\n",
       "      <td>4</td>\n",
       "      <td>b</td>\n",
       "    </tr>\n",
       "    <tr>\n",
       "      <th>4</th>\n",
       "      <td>4</td>\n",
       "      <td>b</td>\n",
       "    </tr>\n",
       "    <tr>\n",
       "      <th>5</th>\n",
       "      <td>4</td>\n",
       "      <td>b</td>\n",
       "    </tr>\n",
       "  </tbody>\n",
       "</table>\n",
       "</div>"
      ],
      "text/plain": [
       "   a  b\n",
       "0  1  a\n",
       "1  2  b\n",
       "2  3  a\n",
       "3  4  b\n",
       "4  4  b\n",
       "5  4  b"
      ]
     },
     "execution_count": 12,
     "metadata": {},
     "output_type": "execute_result"
    }
   ],
   "source": [
    "df.drop(df.columns[df.nunique() == 1], axis=1)"
   ]
  },
  {
   "cell_type": "code",
   "execution_count": 20,
   "metadata": {},
   "outputs": [
    {
     "data": {
      "text/html": [
       "<div>\n",
       "<style scoped>\n",
       "    .dataframe tbody tr th:only-of-type {\n",
       "        vertical-align: middle;\n",
       "    }\n",
       "\n",
       "    .dataframe tbody tr th {\n",
       "        vertical-align: top;\n",
       "    }\n",
       "\n",
       "    .dataframe thead th {\n",
       "        text-align: right;\n",
       "    }\n",
       "</style>\n",
       "<table border=\"1\" class=\"dataframe\">\n",
       "  <thead>\n",
       "    <tr style=\"text-align: right;\">\n",
       "      <th></th>\n",
       "      <th>a</th>\n",
       "      <th>b</th>\n",
       "      <th>c</th>\n",
       "    </tr>\n",
       "  </thead>\n",
       "  <tbody>\n",
       "    <tr>\n",
       "      <th>4</th>\n",
       "      <td>4</td>\n",
       "      <td>b</td>\n",
       "      <td>1</td>\n",
       "    </tr>\n",
       "    <tr>\n",
       "      <th>5</th>\n",
       "      <td>4</td>\n",
       "      <td>b</td>\n",
       "      <td>1</td>\n",
       "    </tr>\n",
       "  </tbody>\n",
       "</table>\n",
       "</div>"
      ],
      "text/plain": [
       "   a  b  c\n",
       "4  4  b  1\n",
       "5  4  b  1"
      ]
     },
     "execution_count": 20,
     "metadata": {},
     "output_type": "execute_result"
    }
   ],
   "source": [
    "df[df.duplicated()]"
   ]
  },
  {
   "cell_type": "code",
   "execution_count": 163,
   "metadata": {},
   "outputs": [
    {
     "name": "stdout",
     "output_type": "stream",
     "text": [
      "<class 'pandas.core.frame.DataFrame'>\n",
      "RangeIndex: 4 entries, 0 to 3\n",
      "Data columns (total 2 columns):\n",
      " #   Column  Non-Null Count  Dtype \n",
      "---  ------  --------------  ----- \n",
      " 0   a       4 non-null      int64 \n",
      " 1   b       4 non-null      object\n",
      "dtypes: int64(1), object(1)\n",
      "memory usage: 196.0+ bytes\n"
     ]
    }
   ],
   "source": [
    "df.info()"
   ]
  },
  {
   "cell_type": "code",
   "execution_count": 164,
   "metadata": {},
   "outputs": [
    {
     "data": {
      "text/plain": [
       "Index(['a', 'b'], dtype='object')"
      ]
     },
     "execution_count": 164,
     "metadata": {},
     "output_type": "execute_result"
    }
   ],
   "source": [
    "df.columns"
   ]
  },
  {
   "cell_type": "code",
   "execution_count": 165,
   "metadata": {},
   "outputs": [
    {
     "data": {
      "text/plain": [
       "array([[1, 'a'],\n",
       "       [2, 'b'],\n",
       "       [3, 'a'],\n",
       "       [4, 'b']], dtype=object)"
      ]
     },
     "execution_count": 165,
     "metadata": {},
     "output_type": "execute_result"
    }
   ],
   "source": [
    "df.values"
   ]
  },
  {
   "cell_type": "code",
   "execution_count": 166,
   "metadata": {},
   "outputs": [
    {
     "data": {
      "text/plain": [
       "True"
      ]
     },
     "execution_count": 166,
     "metadata": {},
     "output_type": "execute_result"
    }
   ],
   "source": [
    "df['a'].dtype in (np.int8, np.int16, np.int32, np.int64, np.uint8, np.uint16, np.uint32, np.uint64, np.float32, np.float64) "
   ]
  },
  {
   "cell_type": "code",
   "execution_count": 167,
   "metadata": {},
   "outputs": [
    {
     "data": {
      "text/plain": [
       "{'b': {'a': 0, 'b': 1}}"
      ]
     },
     "execution_count": 167,
     "metadata": {},
     "output_type": "execute_result"
    }
   ],
   "source": [
    "mapping_data = {}\n",
    "for column in df.columns:\n",
    "    df_row = df[column]\n",
    "    \n",
    "    if df_row.dtype not in (np.dtype('O'),):\n",
    "        continue\n",
    "    \n",
    "    df_row_unique = df_row.unique()\n",
    "    mapping_dict = dict([(v, i) for i, v in enumerate(df_row_unique)])\n",
    "    df_row.replace(mapping_dict, inplace=True)\n",
    "    mapping_data[column] = mapping_dict\n",
    "\n",
    "mapping_data"
   ]
  },
  {
   "cell_type": "code",
   "execution_count": 168,
   "metadata": {},
   "outputs": [
    {
     "data": {
      "text/html": [
       "<div>\n",
       "<style scoped>\n",
       "    .dataframe tbody tr th:only-of-type {\n",
       "        vertical-align: middle;\n",
       "    }\n",
       "\n",
       "    .dataframe tbody tr th {\n",
       "        vertical-align: top;\n",
       "    }\n",
       "\n",
       "    .dataframe thead th {\n",
       "        text-align: right;\n",
       "    }\n",
       "</style>\n",
       "<table border=\"1\" class=\"dataframe\">\n",
       "  <thead>\n",
       "    <tr style=\"text-align: right;\">\n",
       "      <th></th>\n",
       "      <th>a</th>\n",
       "      <th>b</th>\n",
       "    </tr>\n",
       "  </thead>\n",
       "  <tbody>\n",
       "    <tr>\n",
       "      <th>0</th>\n",
       "      <td>1</td>\n",
       "      <td>0</td>\n",
       "    </tr>\n",
       "    <tr>\n",
       "      <th>1</th>\n",
       "      <td>2</td>\n",
       "      <td>1</td>\n",
       "    </tr>\n",
       "    <tr>\n",
       "      <th>2</th>\n",
       "      <td>3</td>\n",
       "      <td>0</td>\n",
       "    </tr>\n",
       "    <tr>\n",
       "      <th>3</th>\n",
       "      <td>4</td>\n",
       "      <td>1</td>\n",
       "    </tr>\n",
       "  </tbody>\n",
       "</table>\n",
       "</div>"
      ],
      "text/plain": [
       "   a  b\n",
       "0  1  0\n",
       "1  2  1\n",
       "2  3  0\n",
       "3  4  1"
      ]
     },
     "execution_count": 168,
     "metadata": {},
     "output_type": "execute_result"
    }
   ],
   "source": [
    "df"
   ]
  },
  {
   "cell_type": "code",
   "execution_count": 65,
   "metadata": {},
   "outputs": [],
   "source": [
    "import math"
   ]
  },
  {
   "cell_type": "code",
   "execution_count": 139,
   "metadata": {},
   "outputs": [
    {
     "data": {
      "text/plain": [
       "'123.0012'"
      ]
     },
     "execution_count": 139,
     "metadata": {},
     "output_type": "execute_result"
    }
   ],
   "source": [
    "import re\n",
    "\n",
    "\n",
    "val = '+123.0012'\n",
    "\n",
    "# validation\n",
    "pattern = re.compile('^[+-]?(\\d+)?([.]\\d+)?')\n",
    "matches = pattern.search(val)\n",
    "val = matches.group(0)\n",
    "\n",
    "# fixed\n",
    "result = 0\n",
    "if len(val) > 0:\n",
    "    \n",
    "    negative = False\n",
    "    if val[0] in ('+', '-'):\n",
    "        negative = val[0] == '-'\n",
    "        val = val[1:]\n",
    "\n",
    "    floating = False\n",
    "    if '.' in val:\n",
    "        floating = True\n",
    "\n",
    "    if floating:\n",
    "        result = -float(val) if negative else float(val)\n",
    "\n",
    "    else:\n",
    "        result = -int(val) if negative else int(val)\n",
    "\n",
    "if type(result) is float:\n",
    "    k = int(result)\n",
    "    \n",
    "    result = k if abs(result - k) <= .0 else result\n",
    "\n",
    "# convert\n",
    "str(result)"
   ]
  },
  {
   "cell_type": "code",
   "execution_count": 140,
   "metadata": {},
   "outputs": [
    {
     "data": {
      "text/plain": [
       "-19999999.99"
      ]
     },
     "execution_count": 140,
     "metadata": {},
     "output_type": "execute_result"
    }
   ],
   "source": [
    "val = '-19.999.999,99'\n",
    "\n",
    "# validation\n",
    "pattern = re.compile('^[+-]?\\d{,3}(([.]\\d{3})+)?([,]\\d+)?')\n",
    "matches = pattern.search(val)\n",
    "val = matches.group(0)\n",
    "\n",
    "# fixed\n",
    "val = val.replace('.', '')\n",
    "val = val.replace(',', '.')\n",
    "\n",
    "result = 0\n",
    "if len(val) > 0:\n",
    "    \n",
    "    negative = False\n",
    "    if val[0] in ('+', '-'):\n",
    "        negative = val[0] == '-'\n",
    "        val = val[1:]\n",
    "\n",
    "    floating = False\n",
    "    if '.' in val:\n",
    "        floating = True\n",
    "\n",
    "    if floating:\n",
    "        result = -float(val) if negative else float(val)\n",
    "\n",
    "    else:\n",
    "        result = -int(val) if negative else int(val)\n",
    "\n",
    "if type(result) is float:\n",
    "    k = int(result)\n",
    "    \n",
    "    result = k if abs(result - k) == .0 else result\n",
    "\n",
    "result"
   ]
  },
  {
   "cell_type": "code",
   "execution_count": 141,
   "metadata": {},
   "outputs": [
    {
     "data": {
      "text/plain": [
       "'-19.999.999,99'"
      ]
     },
     "execution_count": 141,
     "metadata": {},
     "output_type": "execute_result"
    }
   ],
   "source": [
    "# convert\n",
    "negative = result < 0\n",
    "result = abs(result)\n",
    "\n",
    "k = math.floor(math.log(result, 1e3))\n",
    "val, ex = str(float(result)).split('.')\n",
    "ex = ex.ljust(2, '0')\n",
    "\n",
    "x = k * 3\n",
    "y = len(val) - x\n",
    "r = val[:y]\n",
    "val = val[y:]\n",
    "\n",
    "price = r\n",
    "for i in range(0, x, 3):\n",
    "    price += '.' + val[i:i+3]\n",
    "\n",
    "price += ',' + ex\n",
    "\n",
    "price = '-' + price if negative else price\n",
    "price"
   ]
  },
  {
   "cell_type": "code",
   "execution_count": null,
   "metadata": {},
   "outputs": [],
   "source": []
  }
 ],
 "metadata": {
  "kernelspec": {
   "display_name": "Python 3 (ipykernel)",
   "language": "python",
   "name": "python3"
  },
  "language_info": {
   "codemirror_mode": {
    "name": "ipython",
    "version": 3
   },
   "file_extension": ".py",
   "mimetype": "text/x-python",
   "name": "python",
   "nbconvert_exporter": "python",
   "pygments_lexer": "ipython3",
   "version": "3.11.5"
  }
 },
 "nbformat": 4,
 "nbformat_minor": 4
}
