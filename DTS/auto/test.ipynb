{
 "cells": [
  {
   "cell_type": "code",
   "execution_count": 2,
   "metadata": {},
   "outputs": [],
   "source": [
    "# utilities\n",
    "from typing import Sequence, Mapping\n",
    "\n",
    "\n",
    "def evaluation(y_test, y_pred):\n",
    "\n",
    "  return dict(\n",
    "      accuracy=accuracy_score(y_test, y_pred),\n",
    "      recall=recall_score(y_test, y_pred, average='weighted', zero_division=0),\n",
    "      precision=precision_score(y_test, y_pred, average='weighted', zero_division=0),\n",
    "      f1_score=f1_score(y_test, y_pred, average='weighted', zero_division=0),\n",
    "  )\n",
    "\n",
    "\n",
    "def pprint(data, start = '', end = '\\r\\n', output = False, tab = '\\t'):\n",
    "  if isinstance(data, Mapping):\n",
    "    temp = '|' + end\n",
    "    \n",
    "    for k, v in data.items():\n",
    "      temp += start + k + ' = ' + pprint(v, tab + start, end, output=True) + end\n",
    "    \n",
    "    if not output:\n",
    "      print(temp)\n",
    "      \n",
    "    return temp\n",
    "\n",
    "  if not isinstance(data, str):\n",
    "    if isinstance(data, Sequence):\n",
    "      temp = '|' + end\n",
    "      \n",
    "      for k, v in enumerate(data):\n",
    "        temp += start + str(k) + ' = ' + pprint(v, tab + start, end, output=True) + end\n",
    "      \n",
    "      if not output:\n",
    "        print(temp)\n",
    "        \n",
    "      return temp\n",
    "\n",
    "  if not output:\n",
    "    print(data)\n",
    "    \n",
    "  return str(data)"
   ]
  },
  {
   "cell_type": "code",
   "execution_count": 4,
   "metadata": {},
   "outputs": [
    {
     "name": "stdout",
     "output_type": "stream",
     "text": [
      "|\n",
      "name = RandomForestClassifier_x_smote\n",
      "model = RandomForestClassifier(random_state=42)\n",
      "use_smote = True\n",
      "use_adasyn = False\n",
      "preprocessing = |\n",
      "  0 = SMOTE(random_state=42)\n",
      "\n",
      "scores = |\n",
      "  accuracy = 0.9085365853658537\n",
      "  recall = 0.9085365853658537\n",
      "  precision = 0.9107433217189315\n",
      "  f1_score = 0.908558228819527\n",
      "\n",
      "\n"
     ]
    }
   ],
   "source": [
    "import joblib\n",
    "\n",
    "\n",
    "with open('best_data_model.jbl', 'rb') as stream:\n",
    "  best_data_model = joblib.load(stream)\n",
    "  pprint(best_data_model, tab='  ')"
   ]
  },
  {
   "cell_type": "code",
   "execution_count": null,
   "metadata": {},
   "outputs": [],
   "source": []
  }
 ],
 "metadata": {
  "kernelspec": {
   "display_name": "venv",
   "language": "python",
   "name": "python3"
  },
  "language_info": {
   "codemirror_mode": {
    "name": "ipython",
    "version": 3
   },
   "file_extension": ".py",
   "mimetype": "text/x-python",
   "name": "python",
   "nbconvert_exporter": "python",
   "pygments_lexer": "ipython3",
   "version": "3.11.5"
  }
 },
 "nbformat": 4,
 "nbformat_minor": 2
}
